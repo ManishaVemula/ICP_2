{
  "nbformat": 4,
  "nbformat_minor": 0,
  "metadata": {
    "colab": {
      "provenance": []
    },
    "kernelspec": {
      "name": "python3",
      "display_name": "Python 3"
    },
    "language_info": {
      "name": "python"
    }
  },
  "cells": [
    {
      "cell_type": "code",
      "execution_count": 27,
      "metadata": {
        "colab": {
          "base_uri": "https://localhost:8080/"
        },
        "id": "n8W7l-i_aN_u",
        "outputId": "6cb39426-b41f-4ef9-c76f-9dcbc30e6662"
      },
      "outputs": [
        {
          "output_type": "stream",
          "name": "stdout",
          "text": [
            "Count of the Employees : 4\n",
            "Average salary of the Employee: 175025.0\n",
            "Employee Name : Manisha\n",
            "Family Members: 3\n",
            "Employee Annual Salary: 700100\n",
            "Department: Application Developer\n",
            "Type of Employment : Fulltime\n",
            "---------\n",
            "Employee Name : Mounika\n",
            "Family Members: 5\n",
            "Employee Annual Salary: 518000\n",
            "Department: System Analyst\n",
            "Type of Employment : Fulltime\n",
            "---------\n",
            "Employee Name: Sirisha\n",
            "Family Members: 4\n",
            "Employee Annual Salary: 604000\n",
            "Department: Web Developer\n",
            "---------\n",
            "Employee Name: Hari\n",
            "Family Members: 5\n",
            "Employee Annual Salary: 714000\n",
            "Department: Saleforce Developer\n",
            "---------\n"
          ]
        }
      ],
      "source": [
        "# Question 1\n",
        "\n",
        "class Employee:\n",
        "    # COUNT THE NUMBER OF EMPLOYEES\n",
        "    empCount = 0\n",
        "\n",
        "    # CONSTRUCTOR TO INITIALIZE NAME, FAMILY, SALARY, DEPARTMENT\n",
        "    def __init__(self, name, family, salary, department):\n",
        "        self.name = name\n",
        "        self.family = family\n",
        "        self.salary = salary\n",
        "        self.department = department\n",
        "        Employee.empCount += 1    # EMPLOYEE COUNT\n",
        "\n",
        "    # TO DISPLAY DETAILS OF EMPLOYEE\n",
        "    def display(self):\n",
        "        print('Employee Name:', self.name)\n",
        "        print('Family Members:', self.family)\n",
        "        print('Employee Annual Salary:', self.salary)\n",
        "        print('Department:', self.department)\n",
        "        print(\"---------\")\n",
        "\n",
        "    # FUNCTION FOR AVERAGE SALARY OF EMPLOYEE\n",
        "    def avg_salary(self):\n",
        "        total_salary = 0\n",
        "        total_salary += float(self.salary)\n",
        "        avg = total_salary / Employee.empCount\n",
        "        print('Average salary of the Employee:', avg)\n",
        "\n",
        "# INHERITING - EMPLOYEE CLASS\n",
        "class Fulltime_Employee(Employee):\n",
        "    def __init__(self, name, family, salary, department, emp_type):\n",
        "        Employee.__init__(self, name, family, salary, department)\n",
        "        self.emp_type = emp_type\n",
        "\n",
        "    #FUNCTION TO DISPLAY EMPLOYEE DETAILS\n",
        "    def display(self):\n",
        "        print(\"Employee Name :\", self.name)\n",
        "        print('Family Members:', self.family)\n",
        "        print('Employee Annual Salary:', self.salary)\n",
        "        print('Department:', self.department)\n",
        "        print('Type of Employment :', self.emp_type)\n",
        "        print(\"---------\")\n",
        "# INSTANCES FOR Fulltime EMPLOYEE CLASS\n",
        "emp1 = Fulltime_Employee('Manisha', '3', '700100', 'Application Developer', 'Fulltime')\n",
        "emp2 = Fulltime_Employee('Mounika', '5', '518000', 'System Analyst', 'Fulltime')\n",
        "# INSTANCES FOR EMPLOYEE CLASS\n",
        "emp3 = Employee('Sirisha', '4', '604000', 'Web Developer')\n",
        "emp4 = Employee('Hari', '5', '714000', 'Saleforce Developer')\n",
        "\n",
        "print(\"Count of the Employees :\", emp1.empCount)\n",
        "emp1.avg_salary()\n",
        "emp1.display()\n",
        "emp2.display()\n",
        "emp3.display()\n",
        "emp4.display()\n"
      ]
    },
    {
      "cell_type": "code",
      "source": [
        "# Question 2\n",
        "\n",
        "\n",
        "import numpy as np\n",
        "\n",
        "# creating array of size 20\n",
        "random_vector = np.random.uniform(1, 20, 20)\n",
        "print(\"Random Vector : \\n\", random_vector)\n",
        "\n",
        "# reshape the array to 4 by 5\n",
        "random_vector = random_vector.reshape(4,5)\n",
        "print(\"after reshaping (4 by 5): \\n\", random_vector)\n",
        "\n",
        "# replace the max in each row\n",
        "random_vector[np.arange(len(random_vector)), random_vector.argmax(1)] = 0\n",
        "print(\"Replacing the max in each row : \\n\", random_vector)\n",
        "\n"
      ],
      "metadata": {
        "colab": {
          "base_uri": "https://localhost:8080/"
        },
        "id": "SNgCIrsmhtb9",
        "outputId": "9e9c3436-fea7-4913-a632-71ff8dd33547"
      },
      "execution_count": 28,
      "outputs": [
        {
          "output_type": "stream",
          "name": "stdout",
          "text": [
            "Random Vector : \n",
            " [10.0196552  10.22102599 18.4420317   9.67070938  8.5183484   5.10795588\n",
            "  1.41919186 19.92540391  5.58782076  4.29542361  5.87639177 12.98184416\n",
            " 18.8703152  16.01307509  4.12773584 17.66968337 15.98961389  2.09419916\n",
            " 15.37582826  4.96511525]\n",
            "after reshaping (4 by 5): \n",
            " [[10.0196552  10.22102599 18.4420317   9.67070938  8.5183484 ]\n",
            " [ 5.10795588  1.41919186 19.92540391  5.58782076  4.29542361]\n",
            " [ 5.87639177 12.98184416 18.8703152  16.01307509  4.12773584]\n",
            " [17.66968337 15.98961389  2.09419916 15.37582826  4.96511525]]\n",
            "Replacing the max in each row : \n",
            " [[10.0196552  10.22102599  0.          9.67070938  8.5183484 ]\n",
            " [ 5.10795588  1.41919186  0.          5.58782076  4.29542361]\n",
            " [ 5.87639177 12.98184416  0.         16.01307509  4.12773584]\n",
            " [ 0.         15.98961389  2.09419916 15.37582826  4.96511525]]\n"
          ]
        }
      ]
    }
  ]
}